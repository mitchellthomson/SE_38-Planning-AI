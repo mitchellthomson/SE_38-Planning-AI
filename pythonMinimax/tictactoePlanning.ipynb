{
 "cells": [
  {
   "cell_type": "markdown",
   "metadata": {},
   "source": [
    "Mitchell Thomson SE_38 Planning\n",
    "# Problem Definition\n",
    "The problem is testing and discovering multiple planning algorithms in an attempt to have a better understanding of.\n",
    "\n",
    "1. How different algorithms handle speed of which they come to a decision.\n",
    "\n",
    "2. The speed at which each one is able to accomplish the task.\n",
    "\n",
    "3. How the different planning methods deal with scaling of complexity of the problem.\n",
    "\n",
    "\n",
    "Originally the goal was to test the planning methods on a chess AI and record, however time constraints made a swap to TicTacToe AI instead and spending time building different planning algorithms that will play these games against each other.\n",
    "\n",
    "The TicTacToe AI's will be using a blank board of increasing sizes as its board state, both the 'X' player and the 'O' player will be played by the AI. As each takes their turn they will take the action by placing their respective symbol onto the board. As more turns are played the boards will fill up and the speed which the AIs take their turn will increase (which helps cut down overall time) and also as each turn is made the state of the game will change with each action. The goal of the AI in a tictactoe game is analyzing the gameboard and always attempting to calculate the best chance of winning. All the algorithms used for this at the minimum attempt to tie but will always try to come out advantageous."
   ]
  },
  {
   "cell_type": "markdown",
   "metadata": {},
   "source": [
    "# Possible Options\n",
    "When using a planning algorithm for an AI playing a game like chess or TicTacToe there are many options available as well there are many improvements and extensions of these algorithms. As these are very new to me I wanted to start with some rather well known and basic planning methods to start with a regular game of tictactoe (3x3 Board) and then start comparing new methods on larger and more complex boards\n",
    "\n",
    "Some potential options I could use are\n",
    "\n",
    "-Minmax\n",
    "\n",
    "-Alphabeta Pruning\n",
    "\n",
    "-Null Move\n",
    "\n",
    "-Quiescenece Searching\n",
    "\n",
    "-Static Board Evaluation\n",
    "\n",
    "-MonteCarlo Tree Searching (PUCT)\n",
    "\n",
    "The algorithms I implemented and will test against each other are Minmax, Alphabeta Pruning and MonteCarlo"
   ]
  },
  {
   "cell_type": "markdown",
   "metadata": {},
   "source": [
    "# MinMax\n",
    "\n",
    "![Alt text](minimaxDiagram.png)"
   ]
  },
  {
   "cell_type": "markdown",
   "metadata": {},
   "source": [
    "# AlphaBeta Pruning\n",
    "![Alt text](alphaBetaDiagram.png)"
   ]
  },
  {
   "cell_type": "markdown",
   "metadata": {},
   "source": [
    "# Monte Carlo\n",
    "![Alt text](MonteCarlo.drawio.png)"
   ]
  }
 ],
 "metadata": {
  "kernelspec": {
   "display_name": "Python 3.10.8 64-bit (microsoft store)",
   "language": "python",
   "name": "python3"
  },
  "language_info": {
   "codemirror_mode": {
    "name": "ipython",
    "version": 3
   },
   "file_extension": ".py",
   "mimetype": "text/x-python",
   "name": "python",
   "nbconvert_exporter": "python",
   "pygments_lexer": "ipython3",
   "version": "3.10.8"
  },
  "orig_nbformat": 4,
  "vscode": {
   "interpreter": {
    "hash": "a6025086827fe5ad20617511f436f568e53ee604f1571941b7a6f636419e6525"
   }
  }
 },
 "nbformat": 4,
 "nbformat_minor": 2
}
